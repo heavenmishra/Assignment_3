{
 "cells": [
  {
   "cell_type": "code",
   "execution_count": 1,
   "id": "bd96c25d",
   "metadata": {},
   "outputs": [
    {
     "data": {
      "text/plain": [
       "1"
      ]
     },
     "execution_count": 1,
     "metadata": {},
     "output_type": "execute_result"
    }
   ],
   "source": [
    "#my_reduce function\n",
    "def my_reduce(fun,l):\n",
    "    for i in range(len(l)-1):\n",
    "        a = fun(l[i],l[i+1])\n",
    "        l[i+1] = a\n",
    "    return l[-1]\n",
    "my_reduce(lambda x,y: x if x<y else y,[1,2,3,4])"
   ]
  },
  {
   "cell_type": "code",
   "execution_count": 2,
   "id": "88639598",
   "metadata": {},
   "outputs": [
    {
     "data": {
      "text/plain": [
       "[2, 4, 6]"
      ]
     },
     "execution_count": 2,
     "metadata": {},
     "output_type": "execute_result"
    }
   ],
   "source": [
    "#my_filter()\n",
    "def my_filter(fun,l):\n",
    "    l1=[]\n",
    "    for i in l:\n",
    "        if fun(i):\n",
    "            l1.append(i)\n",
    "    return l1\n",
    "l=[1,2,3,4,5,6]\n",
    "my_filter(lambda x : x%2 == 0, l)"
   ]
  },
  {
   "cell_type": "code",
   "execution_count": 3,
   "id": "c13618d1",
   "metadata": {},
   "outputs": [
    {
     "data": {
      "text/plain": [
       "['x', 'xx', 'xxx', 'xxxx', 'y', 'yy', 'yyy', 'yyyy', 'z', 'zz', 'zzz', 'zzzz']"
      ]
     },
     "execution_count": 3,
     "metadata": {},
     "output_type": "execute_result"
    }
   ],
   "source": [
    "lst=['x','y','z']\n",
    "l3=[i*j for i in lst for j in range(1,5)]\n",
    "l3"
   ]
  },
  {
   "cell_type": "code",
   "execution_count": 4,
   "id": "a790ee2a",
   "metadata": {},
   "outputs": [
    {
     "data": {
      "text/plain": [
       "['x', 'y', 'z', 'xx', 'yy', 'zz', 'xxx', 'yyy', 'zzz', 'xxxx', 'yyyy', 'zzzz']"
      ]
     },
     "execution_count": 4,
     "metadata": {},
     "output_type": "execute_result"
    }
   ],
   "source": [
    "lst=['x','y','z']\n",
    "l4=[i*j for i in range(1,5) for j in lst]\n",
    "l4"
   ]
  },
  {
   "cell_type": "code",
   "execution_count": 5,
   "id": "380dbcb7",
   "metadata": {},
   "outputs": [
    {
     "data": {
      "text/plain": [
       "[[2, 3, 4], [3, 4, 5], [4, 5, 6], [5, 6, 7]]"
      ]
     },
     "execution_count": 5,
     "metadata": {},
     "output_type": "execute_result"
    }
   ],
   "source": [
    "l1=[[i+2,i+3,i+4] for i in range(4)]\n",
    "l1"
   ]
  },
  {
   "cell_type": "code",
   "execution_count": 6,
   "id": "297fc7b8",
   "metadata": {},
   "outputs": [
    {
     "data": {
      "text/plain": [
       "[(1, 1), (2, 1), (3, 1), (1, 2), (2, 2), (3, 2), (1, 3), (2, 3), (3, 3)]"
      ]
     },
     "execution_count": 6,
     "metadata": {},
     "output_type": "execute_result"
    }
   ],
   "source": [
    "l2=[(i,j) for j in range(1,4) for i in range(1,4)]\n",
    "l2"
   ]
  },
  {
   "cell_type": "code",
   "execution_count": 17,
   "id": "f73d2b35",
   "metadata": {},
   "outputs": [],
   "source": [
    "l6=[[[i],[i+1],[i+2]]for i in range(2,5)]"
   ]
  },
  {
   "cell_type": "code",
   "execution_count": 18,
   "id": "e09785f7",
   "metadata": {},
   "outputs": [
    {
     "data": {
      "text/plain": [
       "[[[2], [3], [4]], [[3], [4], [5]], [[4], [5], [6]]]"
      ]
     },
     "execution_count": 18,
     "metadata": {},
     "output_type": "execute_result"
    }
   ],
   "source": [
    "l6"
   ]
  },
  {
   "cell_type": "code",
   "execution_count": null,
   "id": "a3ebdec0",
   "metadata": {},
   "outputs": [],
   "source": []
  }
 ],
 "metadata": {
  "kernelspec": {
   "display_name": "Python 3 (ipykernel)",
   "language": "python",
   "name": "python3"
  },
  "language_info": {
   "codemirror_mode": {
    "name": "ipython",
    "version": 3
   },
   "file_extension": ".py",
   "mimetype": "text/x-python",
   "name": "python",
   "nbconvert_exporter": "python",
   "pygments_lexer": "ipython3",
   "version": "3.8.8"
  }
 },
 "nbformat": 4,
 "nbformat_minor": 5
}
